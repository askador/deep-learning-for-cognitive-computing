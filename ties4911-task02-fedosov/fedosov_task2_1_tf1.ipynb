{
 "cells": [
  {
   "attachments": {},
   "cell_type": "markdown",
   "metadata": {},
   "source": [
    "# Task 2-1 TF1\n",
    "\n",
    "\n",
    "Compare performance (loss, accuracy, and examples of predictions of trained model) of several implementations for MNIST dataset classification mentioned in the lecture materials: single-layer neural network and Multi-Layer Perceptron (MLP) (in both, TF1 and TF2). But this time, use Fashion-MNIST dataset instead. Play with training hyper-parameters (e.g. network architecture, learning rates, optimizers, etc.) and compare performance… Present comparison results in a table (including corresponding hyper-parameters settings). "
   ]
  },
  {
   "cell_type": "code",
   "execution_count": 1,
   "metadata": {},
   "outputs": [],
   "source": [
    "from tensorflow.python.keras.models import Sequential\n",
    "from tensorflow.python.keras.layers import Dense, Dropout, Flatten\n",
    "from tensorflow.python.keras.optimizers import gradient_descent_v2, adam_v2 \n",
    "import tensorflow as tf\n",
    "import itertools\n",
    "import numpy as np\n",
    "import pandas as pd"
   ]
  },
  {
   "cell_type": "code",
   "execution_count": 2,
   "metadata": {},
   "outputs": [],
   "source": [
    "(X_train, Y_train), (X_test, Y_test) = tf.keras.datasets.fashion_mnist.load_data()"
   ]
  },
  {
   "cell_type": "code",
   "execution_count": 3,
   "metadata": {},
   "outputs": [],
   "source": [
    "input_shape = (28, 28)\n",
    "learning_rate = 0.01"
   ]
  },
  {
   "cell_type": "code",
   "execution_count": 4,
   "metadata": {},
   "outputs": [],
   "source": [
    "X_train = X_train.astype(np.float32) / 255.0\n",
    "X_test = X_test.astype(np.float32) / 255.0"
   ]
  },
  {
   "cell_type": "code",
   "execution_count": 5,
   "metadata": {},
   "outputs": [],
   "source": [
    "single_layer_results_table = pd.DataFrame(columns=['accuracy', 'loss', 'learning_rate', 'neurons', 'epochs', 'batch_size'])\n",
    "multi_layer_results_table = pd.DataFrame(columns=['accuracy', 'loss', 'learning_rate', 'neurons', 'hidden_layers', 'dropout', 'epochs', 'batch_size'])"
   ]
  },
  {
   "cell_type": "code",
   "execution_count": 6,
   "metadata": {},
   "outputs": [],
   "source": [
    "def single_layer(neurons, learning_rate):\n",
    "    model = Sequential([\n",
    "        Flatten(input_shape=input_shape),\n",
    "        Dense(neurons, activation='relu', kernel_initializer='he_normal'),\n",
    "        Dense(10, activation='softmax')\n",
    "    ])\n",
    "    \n",
    "    model.compile(optimizer=adam_v2.Adam(learning_rate=learning_rate), loss='sparse_categorical_crossentropy', metrics=['accuracy'])\n",
    "    \n",
    "    return model"
   ]
  },
  {
   "cell_type": "code",
   "execution_count": 7,
   "metadata": {},
   "outputs": [],
   "source": [
    "def multi_layer(neurons, hidden_layers, learning_rate, dropout=.5):\n",
    "    model = Sequential()\n",
    "    model.add(Flatten(input_shape=input_shape))\n",
    "\n",
    "    for i in range(hidden_layers):\n",
    "        model.add(Dense(neurons, activation='relu'))\n",
    "        model.add(Dropout(dropout))\n",
    "\n",
    "    model.add(Dense(10, activation='softmax'))\n",
    "    \n",
    "    model.compile(optimizer=adam_v2.Adam(learning_rate=learning_rate), loss='sparse_categorical_crossentropy', metrics=['accuracy'])\n",
    "    \n",
    "    return model\n"
   ]
  },
  {
   "cell_type": "code",
   "execution_count": 8,
   "metadata": {},
   "outputs": [],
   "source": [
    "def model_training_and_evaluation(*, model, X_train, Y_train, epochs, validation_data, batch_size=16):\n",
    "    history = model.fit(X_train, Y_train, epochs=epochs, validation_data=validation_data, batch_size=batch_size, verbose=0)\n",
    "    loss, accuracy = model.evaluate(X_test, Y_test, batch_size=batch_size, verbose=0)\n",
    "\n",
    "    return history, loss, accuracy"
   ]
  },
  {
   "attachments": {},
   "cell_type": "markdown",
   "metadata": {},
   "source": [
    "## TF1 Single-layer"
   ]
  },
  {
   "cell_type": "code",
   "execution_count": 9,
   "metadata": {},
   "outputs": [
    {
     "name": "stdout",
     "output_type": "stream",
     "text": [
      "WARNING:tensorflow:From d:\\Files\\Documents\\JYU\\Deep-Learning for Cognitive Computing for Developers\\Tasks\\Task 2\\.venv\\lib\\site-packages\\tensorflow\\python\\compat\\v2_compat.py:107: disable_resource_variables (from tensorflow.python.ops.variable_scope) is deprecated and will be removed in a future version.\n",
      "Instructions for updating:\n",
      "non-resource variables are not supported in the long term\n"
     ]
    }
   ],
   "source": [
    "tf.compat.v1.disable_v2_behavior()"
   ]
  },
  {
   "cell_type": "code",
   "execution_count": 10,
   "metadata": {},
   "outputs": [],
   "source": [
    "def single_layer_create_and_evaluate(*, \n",
    "                                     learning_rate, \n",
    "                                     neurons, \n",
    "                                     X_train, \n",
    "                                     Y_train, \n",
    "                                     epochs, \n",
    "                                     validation_data, \n",
    "                                     batch_size=16):\n",
    "    global single_layer_results_table\n",
    "    model = single_layer(learning_rate=learning_rate, neurons=neurons)\n",
    "    \n",
    "    _, loss, accuracy = model_training_and_evaluation(model=model, X_train=X_train, Y_train=Y_train, epochs=epochs, validation_data=validation_data, batch_size=batch_size)\n",
    "    \n",
    "    d_row = {\n",
    "        'accuracy': accuracy, \n",
    "        'loss': loss, \n",
    "        'learning_rate': learning_rate,\n",
    "        'neurons': neurons,\n",
    "        'epochs': epochs,\n",
    "        'batch_size': batch_size\n",
    "    }\n",
    "    \n",
    "    single_layer_results_table = single_layer_results_table.append(d_row,ignore_index=True)\n",
    "    \n",
    "    return single_layer_results_table.iloc[-1:]\n",
    "    "
   ]
  },
  {
   "cell_type": "code",
   "execution_count": 11,
   "metadata": {},
   "outputs": [],
   "source": [
    "epochs_list = [2, 10]\n",
    "batch_sizes = [8, 24]\n",
    "neurons_list = [4, 16]\n",
    "learning_rates = [0.1, 0.05]\n",
    "hidden_layers_list = [0, 2]\n",
    "dropouts = [0.2, 0.4]"
   ]
  },
  {
   "cell_type": "code",
   "execution_count": 12,
   "metadata": {},
   "outputs": [],
   "source": [
    "sl_parameters = [\n",
    "    neurons_list,\n",
    "    epochs_list,\n",
    "    learning_rates,\n",
    "    batch_sizes\n",
    "]\n",
    "\n",
    "ml_parameters = [\n",
    "    neurons_list,\n",
    "    hidden_layers_list,\n",
    "    dropouts,\n",
    "    epochs_list,\n",
    "    learning_rates,\n",
    "    batch_sizes\n",
    "]"
   ]
  },
  {
   "cell_type": "code",
   "execution_count": 13,
   "metadata": {},
   "outputs": [
    {
     "name": "stderr",
     "output_type": "stream",
     "text": [
      "d:\\Files\\Documents\\JYU\\Deep-Learning for Cognitive Computing for Developers\\Tasks\\Task 2\\.venv\\lib\\site-packages\\tensorflow\\python\\keras\\engine\\training.py:2455: UserWarning: `Model.state_updates` will be removed in a future version. This property should not be used in TensorFlow 2.0, as `updates` are applied automatically.\n",
      "  warnings.warn('`Model.state_updates` will be removed in a future version. '\n",
      "C:\\Users\\askador\\AppData\\Local\\Temp\\ipykernel_19880\\1781493882.py:23: FutureWarning: The frame.append method is deprecated and will be removed from pandas in a future version. Use pandas.concat instead.\n",
      "  single_layer_results_table = single_layer_results_table.append(d_row,ignore_index=True)\n",
      "d:\\Files\\Documents\\JYU\\Deep-Learning for Cognitive Computing for Developers\\Tasks\\Task 2\\.venv\\lib\\site-packages\\tensorflow\\python\\keras\\engine\\training.py:2455: UserWarning: `Model.state_updates` will be removed in a future version. This property should not be used in TensorFlow 2.0, as `updates` are applied automatically.\n",
      "  warnings.warn('`Model.state_updates` will be removed in a future version. '\n",
      "C:\\Users\\askador\\AppData\\Local\\Temp\\ipykernel_19880\\1781493882.py:23: FutureWarning: The frame.append method is deprecated and will be removed from pandas in a future version. Use pandas.concat instead.\n",
      "  single_layer_results_table = single_layer_results_table.append(d_row,ignore_index=True)\n",
      "d:\\Files\\Documents\\JYU\\Deep-Learning for Cognitive Computing for Developers\\Tasks\\Task 2\\.venv\\lib\\site-packages\\tensorflow\\python\\keras\\engine\\training.py:2455: UserWarning: `Model.state_updates` will be removed in a future version. This property should not be used in TensorFlow 2.0, as `updates` are applied automatically.\n",
      "  warnings.warn('`Model.state_updates` will be removed in a future version. '\n",
      "C:\\Users\\askador\\AppData\\Local\\Temp\\ipykernel_19880\\1781493882.py:23: FutureWarning: The frame.append method is deprecated and will be removed from pandas in a future version. Use pandas.concat instead.\n",
      "  single_layer_results_table = single_layer_results_table.append(d_row,ignore_index=True)\n",
      "d:\\Files\\Documents\\JYU\\Deep-Learning for Cognitive Computing for Developers\\Tasks\\Task 2\\.venv\\lib\\site-packages\\tensorflow\\python\\keras\\engine\\training.py:2455: UserWarning: `Model.state_updates` will be removed in a future version. This property should not be used in TensorFlow 2.0, as `updates` are applied automatically.\n",
      "  warnings.warn('`Model.state_updates` will be removed in a future version. '\n",
      "C:\\Users\\askador\\AppData\\Local\\Temp\\ipykernel_19880\\1781493882.py:23: FutureWarning: The frame.append method is deprecated and will be removed from pandas in a future version. Use pandas.concat instead.\n",
      "  single_layer_results_table = single_layer_results_table.append(d_row,ignore_index=True)\n",
      "d:\\Files\\Documents\\JYU\\Deep-Learning for Cognitive Computing for Developers\\Tasks\\Task 2\\.venv\\lib\\site-packages\\tensorflow\\python\\keras\\engine\\training.py:2455: UserWarning: `Model.state_updates` will be removed in a future version. This property should not be used in TensorFlow 2.0, as `updates` are applied automatically.\n",
      "  warnings.warn('`Model.state_updates` will be removed in a future version. '\n",
      "C:\\Users\\askador\\AppData\\Local\\Temp\\ipykernel_19880\\1781493882.py:23: FutureWarning: The frame.append method is deprecated and will be removed from pandas in a future version. Use pandas.concat instead.\n",
      "  single_layer_results_table = single_layer_results_table.append(d_row,ignore_index=True)\n",
      "d:\\Files\\Documents\\JYU\\Deep-Learning for Cognitive Computing for Developers\\Tasks\\Task 2\\.venv\\lib\\site-packages\\tensorflow\\python\\keras\\engine\\training.py:2455: UserWarning: `Model.state_updates` will be removed in a future version. This property should not be used in TensorFlow 2.0, as `updates` are applied automatically.\n",
      "  warnings.warn('`Model.state_updates` will be removed in a future version. '\n",
      "C:\\Users\\askador\\AppData\\Local\\Temp\\ipykernel_19880\\1781493882.py:23: FutureWarning: The frame.append method is deprecated and will be removed from pandas in a future version. Use pandas.concat instead.\n",
      "  single_layer_results_table = single_layer_results_table.append(d_row,ignore_index=True)\n",
      "d:\\Files\\Documents\\JYU\\Deep-Learning for Cognitive Computing for Developers\\Tasks\\Task 2\\.venv\\lib\\site-packages\\tensorflow\\python\\keras\\engine\\training.py:2455: UserWarning: `Model.state_updates` will be removed in a future version. This property should not be used in TensorFlow 2.0, as `updates` are applied automatically.\n",
      "  warnings.warn('`Model.state_updates` will be removed in a future version. '\n",
      "C:\\Users\\askador\\AppData\\Local\\Temp\\ipykernel_19880\\1781493882.py:23: FutureWarning: The frame.append method is deprecated and will be removed from pandas in a future version. Use pandas.concat instead.\n",
      "  single_layer_results_table = single_layer_results_table.append(d_row,ignore_index=True)\n",
      "d:\\Files\\Documents\\JYU\\Deep-Learning for Cognitive Computing for Developers\\Tasks\\Task 2\\.venv\\lib\\site-packages\\tensorflow\\python\\keras\\engine\\training.py:2455: UserWarning: `Model.state_updates` will be removed in a future version. This property should not be used in TensorFlow 2.0, as `updates` are applied automatically.\n",
      "  warnings.warn('`Model.state_updates` will be removed in a future version. '\n",
      "C:\\Users\\askador\\AppData\\Local\\Temp\\ipykernel_19880\\1781493882.py:23: FutureWarning: The frame.append method is deprecated and will be removed from pandas in a future version. Use pandas.concat instead.\n",
      "  single_layer_results_table = single_layer_results_table.append(d_row,ignore_index=True)\n",
      "d:\\Files\\Documents\\JYU\\Deep-Learning for Cognitive Computing for Developers\\Tasks\\Task 2\\.venv\\lib\\site-packages\\tensorflow\\python\\keras\\engine\\training.py:2455: UserWarning: `Model.state_updates` will be removed in a future version. This property should not be used in TensorFlow 2.0, as `updates` are applied automatically.\n",
      "  warnings.warn('`Model.state_updates` will be removed in a future version. '\n",
      "C:\\Users\\askador\\AppData\\Local\\Temp\\ipykernel_19880\\1781493882.py:23: FutureWarning: The frame.append method is deprecated and will be removed from pandas in a future version. Use pandas.concat instead.\n",
      "  single_layer_results_table = single_layer_results_table.append(d_row,ignore_index=True)\n",
      "d:\\Files\\Documents\\JYU\\Deep-Learning for Cognitive Computing for Developers\\Tasks\\Task 2\\.venv\\lib\\site-packages\\tensorflow\\python\\keras\\engine\\training.py:2455: UserWarning: `Model.state_updates` will be removed in a future version. This property should not be used in TensorFlow 2.0, as `updates` are applied automatically.\n",
      "  warnings.warn('`Model.state_updates` will be removed in a future version. '\n",
      "C:\\Users\\askador\\AppData\\Local\\Temp\\ipykernel_19880\\1781493882.py:23: FutureWarning: The frame.append method is deprecated and will be removed from pandas in a future version. Use pandas.concat instead.\n",
      "  single_layer_results_table = single_layer_results_table.append(d_row,ignore_index=True)\n",
      "d:\\Files\\Documents\\JYU\\Deep-Learning for Cognitive Computing for Developers\\Tasks\\Task 2\\.venv\\lib\\site-packages\\tensorflow\\python\\keras\\engine\\training.py:2455: UserWarning: `Model.state_updates` will be removed in a future version. This property should not be used in TensorFlow 2.0, as `updates` are applied automatically.\n",
      "  warnings.warn('`Model.state_updates` will be removed in a future version. '\n",
      "C:\\Users\\askador\\AppData\\Local\\Temp\\ipykernel_19880\\1781493882.py:23: FutureWarning: The frame.append method is deprecated and will be removed from pandas in a future version. Use pandas.concat instead.\n",
      "  single_layer_results_table = single_layer_results_table.append(d_row,ignore_index=True)\n",
      "d:\\Files\\Documents\\JYU\\Deep-Learning for Cognitive Computing for Developers\\Tasks\\Task 2\\.venv\\lib\\site-packages\\tensorflow\\python\\keras\\engine\\training.py:2455: UserWarning: `Model.state_updates` will be removed in a future version. This property should not be used in TensorFlow 2.0, as `updates` are applied automatically.\n",
      "  warnings.warn('`Model.state_updates` will be removed in a future version. '\n",
      "C:\\Users\\askador\\AppData\\Local\\Temp\\ipykernel_19880\\1781493882.py:23: FutureWarning: The frame.append method is deprecated and will be removed from pandas in a future version. Use pandas.concat instead.\n",
      "  single_layer_results_table = single_layer_results_table.append(d_row,ignore_index=True)\n",
      "d:\\Files\\Documents\\JYU\\Deep-Learning for Cognitive Computing for Developers\\Tasks\\Task 2\\.venv\\lib\\site-packages\\tensorflow\\python\\keras\\engine\\training.py:2455: UserWarning: `Model.state_updates` will be removed in a future version. This property should not be used in TensorFlow 2.0, as `updates` are applied automatically.\n",
      "  warnings.warn('`Model.state_updates` will be removed in a future version. '\n",
      "C:\\Users\\askador\\AppData\\Local\\Temp\\ipykernel_19880\\1781493882.py:23: FutureWarning: The frame.append method is deprecated and will be removed from pandas in a future version. Use pandas.concat instead.\n",
      "  single_layer_results_table = single_layer_results_table.append(d_row,ignore_index=True)\n",
      "d:\\Files\\Documents\\JYU\\Deep-Learning for Cognitive Computing for Developers\\Tasks\\Task 2\\.venv\\lib\\site-packages\\tensorflow\\python\\keras\\engine\\training.py:2455: UserWarning: `Model.state_updates` will be removed in a future version. This property should not be used in TensorFlow 2.0, as `updates` are applied automatically.\n",
      "  warnings.warn('`Model.state_updates` will be removed in a future version. '\n",
      "C:\\Users\\askador\\AppData\\Local\\Temp\\ipykernel_19880\\1781493882.py:23: FutureWarning: The frame.append method is deprecated and will be removed from pandas in a future version. Use pandas.concat instead.\n",
      "  single_layer_results_table = single_layer_results_table.append(d_row,ignore_index=True)\n",
      "d:\\Files\\Documents\\JYU\\Deep-Learning for Cognitive Computing for Developers\\Tasks\\Task 2\\.venv\\lib\\site-packages\\tensorflow\\python\\keras\\engine\\training.py:2455: UserWarning: `Model.state_updates` will be removed in a future version. This property should not be used in TensorFlow 2.0, as `updates` are applied automatically.\n",
      "  warnings.warn('`Model.state_updates` will be removed in a future version. '\n",
      "C:\\Users\\askador\\AppData\\Local\\Temp\\ipykernel_19880\\1781493882.py:23: FutureWarning: The frame.append method is deprecated and will be removed from pandas in a future version. Use pandas.concat instead.\n",
      "  single_layer_results_table = single_layer_results_table.append(d_row,ignore_index=True)\n",
      "d:\\Files\\Documents\\JYU\\Deep-Learning for Cognitive Computing for Developers\\Tasks\\Task 2\\.venv\\lib\\site-packages\\tensorflow\\python\\keras\\engine\\training.py:2455: UserWarning: `Model.state_updates` will be removed in a future version. This property should not be used in TensorFlow 2.0, as `updates` are applied automatically.\n",
      "  warnings.warn('`Model.state_updates` will be removed in a future version. '\n",
      "C:\\Users\\askador\\AppData\\Local\\Temp\\ipykernel_19880\\1781493882.py:23: FutureWarning: The frame.append method is deprecated and will be removed from pandas in a future version. Use pandas.concat instead.\n",
      "  single_layer_results_table = single_layer_results_table.append(d_row,ignore_index=True)\n"
     ]
    }
   ],
   "source": [
    "for neurons, epochs, learning_rate, batch_size in list(itertools.product(*sl_parameters)):\n",
    "    single_layer_create_and_evaluate(\n",
    "        learning_rate=learning_rate,\n",
    "        neurons=neurons,\n",
    "        X_train=X_train,\n",
    "        Y_train=Y_train,\n",
    "        epochs=epochs,\n",
    "        validation_data=(X_test, Y_test),\n",
    "        batch_size=batch_size\n",
    "    )"
   ]
  },
  {
   "attachments": {},
   "cell_type": "markdown",
   "metadata": {},
   "source": [
    "## TF1 Multi-Layer Perceptron"
   ]
  },
  {
   "cell_type": "code",
   "execution_count": 14,
   "metadata": {},
   "outputs": [],
   "source": [
    "def multi_layer_create_and_evaluate(*, \n",
    "                                    learning_rate, \n",
    "                                    neurons, \n",
    "                                    hidden_layers,\n",
    "                                    dropout=0.5,\n",
    "                                    X_train, \n",
    "                                    Y_train, \n",
    "                                    epochs, \n",
    "                                    validation_data, \n",
    "                                    batch_size=16):\n",
    "    global multi_layer_results_table\n",
    "    model = multi_layer(learning_rate=learning_rate, neurons=neurons, hidden_layers=hidden_layers, dropout=dropout)\n",
    "    \n",
    "    _, loss, accuracy = model_training_and_evaluation(model=model, X_train=X_train, Y_train=Y_train, epochs=epochs, validation_data=validation_data, batch_size=batch_size)\n",
    "    \n",
    "    d_row = {\n",
    "        'accuracy': accuracy, \n",
    "        'loss': loss, \n",
    "        'learning_rate': learning_rate,\n",
    "        'neurons': neurons,\n",
    "        'hidden_layers': hidden_layers,\n",
    "        'dropout': dropout,\n",
    "        'epochs': epochs,\n",
    "        'batch_size': batch_size\n",
    "    }\n",
    "    \n",
    "    multi_layer_results_table = multi_layer_results_table.append(d_row,ignore_index=True)\n",
    "    \n",
    "    return multi_layer_results_table.iloc[-1:]\n",
    "    "
   ]
  },
  {
   "cell_type": "code",
   "execution_count": 15,
   "metadata": {},
   "outputs": [
    {
     "name": "stderr",
     "output_type": "stream",
     "text": [
      "d:\\Files\\Documents\\JYU\\Deep-Learning for Cognitive Computing for Developers\\Tasks\\Task 2\\.venv\\lib\\site-packages\\tensorflow\\python\\keras\\engine\\training.py:2455: UserWarning: `Model.state_updates` will be removed in a future version. This property should not be used in TensorFlow 2.0, as `updates` are applied automatically.\n",
      "  warnings.warn('`Model.state_updates` will be removed in a future version. '\n",
      "C:\\Users\\askador\\AppData\\Local\\Temp\\ipykernel_19880\\4079514552.py:27: FutureWarning: The frame.append method is deprecated and will be removed from pandas in a future version. Use pandas.concat instead.\n",
      "  multi_layer_results_table = multi_layer_results_table.append(d_row,ignore_index=True)\n",
      "d:\\Files\\Documents\\JYU\\Deep-Learning for Cognitive Computing for Developers\\Tasks\\Task 2\\.venv\\lib\\site-packages\\tensorflow\\python\\keras\\engine\\training.py:2455: UserWarning: `Model.state_updates` will be removed in a future version. This property should not be used in TensorFlow 2.0, as `updates` are applied automatically.\n",
      "  warnings.warn('`Model.state_updates` will be removed in a future version. '\n",
      "C:\\Users\\askador\\AppData\\Local\\Temp\\ipykernel_19880\\4079514552.py:27: FutureWarning: The frame.append method is deprecated and will be removed from pandas in a future version. Use pandas.concat instead.\n",
      "  multi_layer_results_table = multi_layer_results_table.append(d_row,ignore_index=True)\n",
      "d:\\Files\\Documents\\JYU\\Deep-Learning for Cognitive Computing for Developers\\Tasks\\Task 2\\.venv\\lib\\site-packages\\tensorflow\\python\\keras\\engine\\training.py:2455: UserWarning: `Model.state_updates` will be removed in a future version. This property should not be used in TensorFlow 2.0, as `updates` are applied automatically.\n",
      "  warnings.warn('`Model.state_updates` will be removed in a future version. '\n",
      "C:\\Users\\askador\\AppData\\Local\\Temp\\ipykernel_19880\\4079514552.py:27: FutureWarning: The frame.append method is deprecated and will be removed from pandas in a future version. Use pandas.concat instead.\n",
      "  multi_layer_results_table = multi_layer_results_table.append(d_row,ignore_index=True)\n",
      "d:\\Files\\Documents\\JYU\\Deep-Learning for Cognitive Computing for Developers\\Tasks\\Task 2\\.venv\\lib\\site-packages\\tensorflow\\python\\keras\\engine\\training.py:2455: UserWarning: `Model.state_updates` will be removed in a future version. This property should not be used in TensorFlow 2.0, as `updates` are applied automatically.\n",
      "  warnings.warn('`Model.state_updates` will be removed in a future version. '\n",
      "C:\\Users\\askador\\AppData\\Local\\Temp\\ipykernel_19880\\4079514552.py:27: FutureWarning: The frame.append method is deprecated and will be removed from pandas in a future version. Use pandas.concat instead.\n",
      "  multi_layer_results_table = multi_layer_results_table.append(d_row,ignore_index=True)\n",
      "d:\\Files\\Documents\\JYU\\Deep-Learning for Cognitive Computing for Developers\\Tasks\\Task 2\\.venv\\lib\\site-packages\\tensorflow\\python\\keras\\engine\\training.py:2455: UserWarning: `Model.state_updates` will be removed in a future version. This property should not be used in TensorFlow 2.0, as `updates` are applied automatically.\n",
      "  warnings.warn('`Model.state_updates` will be removed in a future version. '\n",
      "C:\\Users\\askador\\AppData\\Local\\Temp\\ipykernel_19880\\4079514552.py:27: FutureWarning: The frame.append method is deprecated and will be removed from pandas in a future version. Use pandas.concat instead.\n",
      "  multi_layer_results_table = multi_layer_results_table.append(d_row,ignore_index=True)\n",
      "d:\\Files\\Documents\\JYU\\Deep-Learning for Cognitive Computing for Developers\\Tasks\\Task 2\\.venv\\lib\\site-packages\\tensorflow\\python\\keras\\engine\\training.py:2455: UserWarning: `Model.state_updates` will be removed in a future version. This property should not be used in TensorFlow 2.0, as `updates` are applied automatically.\n",
      "  warnings.warn('`Model.state_updates` will be removed in a future version. '\n",
      "C:\\Users\\askador\\AppData\\Local\\Temp\\ipykernel_19880\\4079514552.py:27: FutureWarning: The frame.append method is deprecated and will be removed from pandas in a future version. Use pandas.concat instead.\n",
      "  multi_layer_results_table = multi_layer_results_table.append(d_row,ignore_index=True)\n",
      "d:\\Files\\Documents\\JYU\\Deep-Learning for Cognitive Computing for Developers\\Tasks\\Task 2\\.venv\\lib\\site-packages\\tensorflow\\python\\keras\\engine\\training.py:2455: UserWarning: `Model.state_updates` will be removed in a future version. This property should not be used in TensorFlow 2.0, as `updates` are applied automatically.\n",
      "  warnings.warn('`Model.state_updates` will be removed in a future version. '\n",
      "C:\\Users\\askador\\AppData\\Local\\Temp\\ipykernel_19880\\4079514552.py:27: FutureWarning: The frame.append method is deprecated and will be removed from pandas in a future version. Use pandas.concat instead.\n",
      "  multi_layer_results_table = multi_layer_results_table.append(d_row,ignore_index=True)\n",
      "d:\\Files\\Documents\\JYU\\Deep-Learning for Cognitive Computing for Developers\\Tasks\\Task 2\\.venv\\lib\\site-packages\\tensorflow\\python\\keras\\engine\\training.py:2455: UserWarning: `Model.state_updates` will be removed in a future version. This property should not be used in TensorFlow 2.0, as `updates` are applied automatically.\n",
      "  warnings.warn('`Model.state_updates` will be removed in a future version. '\n",
      "C:\\Users\\askador\\AppData\\Local\\Temp\\ipykernel_19880\\4079514552.py:27: FutureWarning: The frame.append method is deprecated and will be removed from pandas in a future version. Use pandas.concat instead.\n",
      "  multi_layer_results_table = multi_layer_results_table.append(d_row,ignore_index=True)\n",
      "d:\\Files\\Documents\\JYU\\Deep-Learning for Cognitive Computing for Developers\\Tasks\\Task 2\\.venv\\lib\\site-packages\\tensorflow\\python\\keras\\engine\\training.py:2455: UserWarning: `Model.state_updates` will be removed in a future version. This property should not be used in TensorFlow 2.0, as `updates` are applied automatically.\n",
      "  warnings.warn('`Model.state_updates` will be removed in a future version. '\n",
      "C:\\Users\\askador\\AppData\\Local\\Temp\\ipykernel_19880\\4079514552.py:27: FutureWarning: The frame.append method is deprecated and will be removed from pandas in a future version. Use pandas.concat instead.\n",
      "  multi_layer_results_table = multi_layer_results_table.append(d_row,ignore_index=True)\n",
      "d:\\Files\\Documents\\JYU\\Deep-Learning for Cognitive Computing for Developers\\Tasks\\Task 2\\.venv\\lib\\site-packages\\tensorflow\\python\\keras\\engine\\training.py:2455: UserWarning: `Model.state_updates` will be removed in a future version. This property should not be used in TensorFlow 2.0, as `updates` are applied automatically.\n",
      "  warnings.warn('`Model.state_updates` will be removed in a future version. '\n",
      "C:\\Users\\askador\\AppData\\Local\\Temp\\ipykernel_19880\\4079514552.py:27: FutureWarning: The frame.append method is deprecated and will be removed from pandas in a future version. Use pandas.concat instead.\n",
      "  multi_layer_results_table = multi_layer_results_table.append(d_row,ignore_index=True)\n",
      "d:\\Files\\Documents\\JYU\\Deep-Learning for Cognitive Computing for Developers\\Tasks\\Task 2\\.venv\\lib\\site-packages\\tensorflow\\python\\keras\\engine\\training.py:2455: UserWarning: `Model.state_updates` will be removed in a future version. This property should not be used in TensorFlow 2.0, as `updates` are applied automatically.\n",
      "  warnings.warn('`Model.state_updates` will be removed in a future version. '\n",
      "C:\\Users\\askador\\AppData\\Local\\Temp\\ipykernel_19880\\4079514552.py:27: FutureWarning: The frame.append method is deprecated and will be removed from pandas in a future version. Use pandas.concat instead.\n",
      "  multi_layer_results_table = multi_layer_results_table.append(d_row,ignore_index=True)\n",
      "d:\\Files\\Documents\\JYU\\Deep-Learning for Cognitive Computing for Developers\\Tasks\\Task 2\\.venv\\lib\\site-packages\\tensorflow\\python\\keras\\engine\\training.py:2455: UserWarning: `Model.state_updates` will be removed in a future version. This property should not be used in TensorFlow 2.0, as `updates` are applied automatically.\n",
      "  warnings.warn('`Model.state_updates` will be removed in a future version. '\n",
      "C:\\Users\\askador\\AppData\\Local\\Temp\\ipykernel_19880\\4079514552.py:27: FutureWarning: The frame.append method is deprecated and will be removed from pandas in a future version. Use pandas.concat instead.\n",
      "  multi_layer_results_table = multi_layer_results_table.append(d_row,ignore_index=True)\n",
      "d:\\Files\\Documents\\JYU\\Deep-Learning for Cognitive Computing for Developers\\Tasks\\Task 2\\.venv\\lib\\site-packages\\tensorflow\\python\\keras\\engine\\training.py:2455: UserWarning: `Model.state_updates` will be removed in a future version. This property should not be used in TensorFlow 2.0, as `updates` are applied automatically.\n",
      "  warnings.warn('`Model.state_updates` will be removed in a future version. '\n",
      "C:\\Users\\askador\\AppData\\Local\\Temp\\ipykernel_19880\\4079514552.py:27: FutureWarning: The frame.append method is deprecated and will be removed from pandas in a future version. Use pandas.concat instead.\n",
      "  multi_layer_results_table = multi_layer_results_table.append(d_row,ignore_index=True)\n",
      "d:\\Files\\Documents\\JYU\\Deep-Learning for Cognitive Computing for Developers\\Tasks\\Task 2\\.venv\\lib\\site-packages\\tensorflow\\python\\keras\\engine\\training.py:2455: UserWarning: `Model.state_updates` will be removed in a future version. This property should not be used in TensorFlow 2.0, as `updates` are applied automatically.\n",
      "  warnings.warn('`Model.state_updates` will be removed in a future version. '\n",
      "C:\\Users\\askador\\AppData\\Local\\Temp\\ipykernel_19880\\4079514552.py:27: FutureWarning: The frame.append method is deprecated and will be removed from pandas in a future version. Use pandas.concat instead.\n",
      "  multi_layer_results_table = multi_layer_results_table.append(d_row,ignore_index=True)\n",
      "d:\\Files\\Documents\\JYU\\Deep-Learning for Cognitive Computing for Developers\\Tasks\\Task 2\\.venv\\lib\\site-packages\\tensorflow\\python\\keras\\engine\\training.py:2455: UserWarning: `Model.state_updates` will be removed in a future version. This property should not be used in TensorFlow 2.0, as `updates` are applied automatically.\n",
      "  warnings.warn('`Model.state_updates` will be removed in a future version. '\n",
      "C:\\Users\\askador\\AppData\\Local\\Temp\\ipykernel_19880\\4079514552.py:27: FutureWarning: The frame.append method is deprecated and will be removed from pandas in a future version. Use pandas.concat instead.\n",
      "  multi_layer_results_table = multi_layer_results_table.append(d_row,ignore_index=True)\n",
      "d:\\Files\\Documents\\JYU\\Deep-Learning for Cognitive Computing for Developers\\Tasks\\Task 2\\.venv\\lib\\site-packages\\tensorflow\\python\\keras\\engine\\training.py:2455: UserWarning: `Model.state_updates` will be removed in a future version. This property should not be used in TensorFlow 2.0, as `updates` are applied automatically.\n",
      "  warnings.warn('`Model.state_updates` will be removed in a future version. '\n",
      "C:\\Users\\askador\\AppData\\Local\\Temp\\ipykernel_19880\\4079514552.py:27: FutureWarning: The frame.append method is deprecated and will be removed from pandas in a future version. Use pandas.concat instead.\n",
      "  multi_layer_results_table = multi_layer_results_table.append(d_row,ignore_index=True)\n",
      "d:\\Files\\Documents\\JYU\\Deep-Learning for Cognitive Computing for Developers\\Tasks\\Task 2\\.venv\\lib\\site-packages\\tensorflow\\python\\keras\\engine\\training.py:2455: UserWarning: `Model.state_updates` will be removed in a future version. This property should not be used in TensorFlow 2.0, as `updates` are applied automatically.\n",
      "  warnings.warn('`Model.state_updates` will be removed in a future version. '\n",
      "C:\\Users\\askador\\AppData\\Local\\Temp\\ipykernel_19880\\4079514552.py:27: FutureWarning: The frame.append method is deprecated and will be removed from pandas in a future version. Use pandas.concat instead.\n",
      "  multi_layer_results_table = multi_layer_results_table.append(d_row,ignore_index=True)\n",
      "d:\\Files\\Documents\\JYU\\Deep-Learning for Cognitive Computing for Developers\\Tasks\\Task 2\\.venv\\lib\\site-packages\\tensorflow\\python\\keras\\engine\\training.py:2455: UserWarning: `Model.state_updates` will be removed in a future version. This property should not be used in TensorFlow 2.0, as `updates` are applied automatically.\n",
      "  warnings.warn('`Model.state_updates` will be removed in a future version. '\n",
      "C:\\Users\\askador\\AppData\\Local\\Temp\\ipykernel_19880\\4079514552.py:27: FutureWarning: The frame.append method is deprecated and will be removed from pandas in a future version. Use pandas.concat instead.\n",
      "  multi_layer_results_table = multi_layer_results_table.append(d_row,ignore_index=True)\n",
      "d:\\Files\\Documents\\JYU\\Deep-Learning for Cognitive Computing for Developers\\Tasks\\Task 2\\.venv\\lib\\site-packages\\tensorflow\\python\\keras\\engine\\training.py:2455: UserWarning: `Model.state_updates` will be removed in a future version. This property should not be used in TensorFlow 2.0, as `updates` are applied automatically.\n",
      "  warnings.warn('`Model.state_updates` will be removed in a future version. '\n",
      "C:\\Users\\askador\\AppData\\Local\\Temp\\ipykernel_19880\\4079514552.py:27: FutureWarning: The frame.append method is deprecated and will be removed from pandas in a future version. Use pandas.concat instead.\n",
      "  multi_layer_results_table = multi_layer_results_table.append(d_row,ignore_index=True)\n",
      "d:\\Files\\Documents\\JYU\\Deep-Learning for Cognitive Computing for Developers\\Tasks\\Task 2\\.venv\\lib\\site-packages\\tensorflow\\python\\keras\\engine\\training.py:2455: UserWarning: `Model.state_updates` will be removed in a future version. This property should not be used in TensorFlow 2.0, as `updates` are applied automatically.\n",
      "  warnings.warn('`Model.state_updates` will be removed in a future version. '\n",
      "C:\\Users\\askador\\AppData\\Local\\Temp\\ipykernel_19880\\4079514552.py:27: FutureWarning: The frame.append method is deprecated and will be removed from pandas in a future version. Use pandas.concat instead.\n",
      "  multi_layer_results_table = multi_layer_results_table.append(d_row,ignore_index=True)\n",
      "d:\\Files\\Documents\\JYU\\Deep-Learning for Cognitive Computing for Developers\\Tasks\\Task 2\\.venv\\lib\\site-packages\\tensorflow\\python\\keras\\engine\\training.py:2455: UserWarning: `Model.state_updates` will be removed in a future version. This property should not be used in TensorFlow 2.0, as `updates` are applied automatically.\n",
      "  warnings.warn('`Model.state_updates` will be removed in a future version. '\n",
      "C:\\Users\\askador\\AppData\\Local\\Temp\\ipykernel_19880\\4079514552.py:27: FutureWarning: The frame.append method is deprecated and will be removed from pandas in a future version. Use pandas.concat instead.\n",
      "  multi_layer_results_table = multi_layer_results_table.append(d_row,ignore_index=True)\n",
      "d:\\Files\\Documents\\JYU\\Deep-Learning for Cognitive Computing for Developers\\Tasks\\Task 2\\.venv\\lib\\site-packages\\tensorflow\\python\\keras\\engine\\training.py:2455: UserWarning: `Model.state_updates` will be removed in a future version. This property should not be used in TensorFlow 2.0, as `updates` are applied automatically.\n",
      "  warnings.warn('`Model.state_updates` will be removed in a future version. '\n",
      "C:\\Users\\askador\\AppData\\Local\\Temp\\ipykernel_19880\\4079514552.py:27: FutureWarning: The frame.append method is deprecated and will be removed from pandas in a future version. Use pandas.concat instead.\n",
      "  multi_layer_results_table = multi_layer_results_table.append(d_row,ignore_index=True)\n",
      "d:\\Files\\Documents\\JYU\\Deep-Learning for Cognitive Computing for Developers\\Tasks\\Task 2\\.venv\\lib\\site-packages\\tensorflow\\python\\keras\\engine\\training.py:2455: UserWarning: `Model.state_updates` will be removed in a future version. This property should not be used in TensorFlow 2.0, as `updates` are applied automatically.\n",
      "  warnings.warn('`Model.state_updates` will be removed in a future version. '\n",
      "C:\\Users\\askador\\AppData\\Local\\Temp\\ipykernel_19880\\4079514552.py:27: FutureWarning: The frame.append method is deprecated and will be removed from pandas in a future version. Use pandas.concat instead.\n",
      "  multi_layer_results_table = multi_layer_results_table.append(d_row,ignore_index=True)\n",
      "d:\\Files\\Documents\\JYU\\Deep-Learning for Cognitive Computing for Developers\\Tasks\\Task 2\\.venv\\lib\\site-packages\\tensorflow\\python\\keras\\engine\\training.py:2455: UserWarning: `Model.state_updates` will be removed in a future version. This property should not be used in TensorFlow 2.0, as `updates` are applied automatically.\n",
      "  warnings.warn('`Model.state_updates` will be removed in a future version. '\n",
      "C:\\Users\\askador\\AppData\\Local\\Temp\\ipykernel_19880\\4079514552.py:27: FutureWarning: The frame.append method is deprecated and will be removed from pandas in a future version. Use pandas.concat instead.\n",
      "  multi_layer_results_table = multi_layer_results_table.append(d_row,ignore_index=True)\n",
      "d:\\Files\\Documents\\JYU\\Deep-Learning for Cognitive Computing for Developers\\Tasks\\Task 2\\.venv\\lib\\site-packages\\tensorflow\\python\\keras\\engine\\training.py:2455: UserWarning: `Model.state_updates` will be removed in a future version. This property should not be used in TensorFlow 2.0, as `updates` are applied automatically.\n",
      "  warnings.warn('`Model.state_updates` will be removed in a future version. '\n",
      "C:\\Users\\askador\\AppData\\Local\\Temp\\ipykernel_19880\\4079514552.py:27: FutureWarning: The frame.append method is deprecated and will be removed from pandas in a future version. Use pandas.concat instead.\n",
      "  multi_layer_results_table = multi_layer_results_table.append(d_row,ignore_index=True)\n",
      "d:\\Files\\Documents\\JYU\\Deep-Learning for Cognitive Computing for Developers\\Tasks\\Task 2\\.venv\\lib\\site-packages\\tensorflow\\python\\keras\\engine\\training.py:2455: UserWarning: `Model.state_updates` will be removed in a future version. This property should not be used in TensorFlow 2.0, as `updates` are applied automatically.\n",
      "  warnings.warn('`Model.state_updates` will be removed in a future version. '\n",
      "C:\\Users\\askador\\AppData\\Local\\Temp\\ipykernel_19880\\4079514552.py:27: FutureWarning: The frame.append method is deprecated and will be removed from pandas in a future version. Use pandas.concat instead.\n",
      "  multi_layer_results_table = multi_layer_results_table.append(d_row,ignore_index=True)\n",
      "d:\\Files\\Documents\\JYU\\Deep-Learning for Cognitive Computing for Developers\\Tasks\\Task 2\\.venv\\lib\\site-packages\\tensorflow\\python\\keras\\engine\\training.py:2455: UserWarning: `Model.state_updates` will be removed in a future version. This property should not be used in TensorFlow 2.0, as `updates` are applied automatically.\n",
      "  warnings.warn('`Model.state_updates` will be removed in a future version. '\n",
      "C:\\Users\\askador\\AppData\\Local\\Temp\\ipykernel_19880\\4079514552.py:27: FutureWarning: The frame.append method is deprecated and will be removed from pandas in a future version. Use pandas.concat instead.\n",
      "  multi_layer_results_table = multi_layer_results_table.append(d_row,ignore_index=True)\n",
      "d:\\Files\\Documents\\JYU\\Deep-Learning for Cognitive Computing for Developers\\Tasks\\Task 2\\.venv\\lib\\site-packages\\tensorflow\\python\\keras\\engine\\training.py:2455: UserWarning: `Model.state_updates` will be removed in a future version. This property should not be used in TensorFlow 2.0, as `updates` are applied automatically.\n",
      "  warnings.warn('`Model.state_updates` will be removed in a future version. '\n",
      "C:\\Users\\askador\\AppData\\Local\\Temp\\ipykernel_19880\\4079514552.py:27: FutureWarning: The frame.append method is deprecated and will be removed from pandas in a future version. Use pandas.concat instead.\n",
      "  multi_layer_results_table = multi_layer_results_table.append(d_row,ignore_index=True)\n",
      "d:\\Files\\Documents\\JYU\\Deep-Learning for Cognitive Computing for Developers\\Tasks\\Task 2\\.venv\\lib\\site-packages\\tensorflow\\python\\keras\\engine\\training.py:2455: UserWarning: `Model.state_updates` will be removed in a future version. This property should not be used in TensorFlow 2.0, as `updates` are applied automatically.\n",
      "  warnings.warn('`Model.state_updates` will be removed in a future version. '\n",
      "C:\\Users\\askador\\AppData\\Local\\Temp\\ipykernel_19880\\4079514552.py:27: FutureWarning: The frame.append method is deprecated and will be removed from pandas in a future version. Use pandas.concat instead.\n",
      "  multi_layer_results_table = multi_layer_results_table.append(d_row,ignore_index=True)\n",
      "d:\\Files\\Documents\\JYU\\Deep-Learning for Cognitive Computing for Developers\\Tasks\\Task 2\\.venv\\lib\\site-packages\\tensorflow\\python\\keras\\engine\\training.py:2455: UserWarning: `Model.state_updates` will be removed in a future version. This property should not be used in TensorFlow 2.0, as `updates` are applied automatically.\n",
      "  warnings.warn('`Model.state_updates` will be removed in a future version. '\n"
     ]
    }
   ],
   "source": [
    "for neurons, hidden_layers, dropout, epochs, learning_rate, batch_size in list(itertools.product(*ml_parameters)):\n",
    "    multi_layer_create_and_evaluate(\n",
    "        learning_rate=learning_rate,\n",
    "        neurons=neurons,\n",
    "        hidden_layers=hidden_layers,\n",
    "        dropout=dropout,\n",
    "        X_train=X_train,\n",
    "        Y_train=Y_train,\n",
    "        epochs=epochs,\n",
    "        validation_data=(X_test, Y_test),\n",
    "        batch_size=batch_size\n",
    "    )"
   ]
  },
  {
   "cell_type": "code",
   "execution_count": null,
   "metadata": {},
   "outputs": [],
   "source": [
    "single_layer_results_table"
   ]
  },
  {
   "cell_type": "code",
   "execution_count": null,
   "metadata": {},
   "outputs": [],
   "source": [
    "multi_layer_results_table"
   ]
  }
 ],
 "metadata": {
  "kernelspec": {
   "display_name": ".venv",
   "language": "python",
   "name": "python3"
  },
  "language_info": {
   "codemirror_mode": {
    "name": "ipython",
    "version": 3
   },
   "file_extension": ".py",
   "mimetype": "text/x-python",
   "name": "python",
   "nbconvert_exporter": "python",
   "pygments_lexer": "ipython3",
   "version": "3.10.7 (tags/v3.10.7:6cc6b13, Sep  5 2022, 14:08:36) [MSC v.1933 64 bit (AMD64)]"
  },
  "orig_nbformat": 4,
  "vscode": {
   "interpreter": {
    "hash": "2e0a661408dd2e5d6e82762c2a3896b10b58a303515c0bde349ae540da99193a"
   }
  }
 },
 "nbformat": 4,
 "nbformat_minor": 2
}
