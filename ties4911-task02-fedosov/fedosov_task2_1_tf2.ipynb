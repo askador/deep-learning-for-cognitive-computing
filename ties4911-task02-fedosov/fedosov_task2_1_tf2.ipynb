{
 "cells": [
  {
   "attachments": {},
   "cell_type": "markdown",
   "metadata": {},
   "source": [
    "# Task 2-1 TF2\n",
    "\n",
    "\n",
    "Compare performance (loss, accuracy, and examples of predictions of trained model) of several implementations for MNIST dataset classification mentioned in the lecture materials: single-layer neural network and Multi-Layer Perceptron (MLP) (in both, TF1 and TF2). But this time, use Fashion-MNIST dataset instead. Play with training hyper-parameters (e.g. network architecture, learning rates, optimizers, etc.) and compare performance… Present comparison results in a table (including corresponding hyper-parameters settings). "
   ]
  },
  {
   "cell_type": "code",
   "execution_count": 35,
   "metadata": {},
   "outputs": [],
   "source": [
    "from tensorflow.python.keras.models import Sequential\n",
    "from tensorflow.python.keras.layers import Dense, Dropout, Flatten\n",
    "from tensorflow.python.keras.optimizers import gradient_descent_v2, adam_v2 \n",
    "import tensorflow as tf\n",
    "import itertools\n",
    "import numpy as np\n",
    "import pandas as pd"
   ]
  },
  {
   "cell_type": "code",
   "execution_count": 36,
   "metadata": {},
   "outputs": [],
   "source": [
    "(X_train, Y_train), (X_test, Y_test) = tf.keras.datasets.fashion_mnist.load_data()"
   ]
  },
  {
   "cell_type": "code",
   "execution_count": 37,
   "metadata": {},
   "outputs": [],
   "source": [
    "input_shape = (28, 28)\n",
    "learning_rate = 0.01"
   ]
  },
  {
   "cell_type": "code",
   "execution_count": 38,
   "metadata": {},
   "outputs": [],
   "source": [
    "X_train = X_train.astype(np.float32) / 255.0\n",
    "X_test = X_test.astype(np.float32) / 255.0"
   ]
  },
  {
   "cell_type": "code",
   "execution_count": 39,
   "metadata": {},
   "outputs": [],
   "source": [
    "single_layer_results_table = pd.DataFrame(columns=['accuracy', 'loss', 'learning_rate', 'neurons', 'epochs', 'batch_size'])\n",
    "multi_layer_results_table = pd.DataFrame(columns=['accuracy', 'loss', 'learning_rate', 'neurons', 'hidden_layers', 'dropout', 'epochs', 'batch_size'])"
   ]
  },
  {
   "cell_type": "code",
   "execution_count": 40,
   "metadata": {},
   "outputs": [],
   "source": [
    "def single_layer(neurons, learning_rate):\n",
    "    model = Sequential([\n",
    "        Flatten(input_shape=input_shape),\n",
    "        Dense(neurons, activation='relu', kernel_initializer='he_normal'),\n",
    "        Dense(10, activation='softmax')\n",
    "    ])\n",
    "    \n",
    "    model.compile(optimizer=adam_v2.Adam(learning_rate=learning_rate), loss='sparse_categorical_crossentropy', metrics=['accuracy'])\n",
    "    \n",
    "    return model"
   ]
  },
  {
   "cell_type": "code",
   "execution_count": 41,
   "metadata": {},
   "outputs": [],
   "source": [
    "def multi_layer(neurons, hidden_layers, learning_rate, dropout=.5):\n",
    "    model = Sequential()\n",
    "    model.add(Flatten(input_shape=input_shape))\n",
    "\n",
    "    for i in range(hidden_layers):\n",
    "        model.add(Dense(neurons, activation='relu'))\n",
    "        model.add(Dropout(dropout))\n",
    "\n",
    "    model.add(Dense(10, activation='softmax'))\n",
    "    \n",
    "    model.compile(optimizer=adam_v2.Adam(learning_rate=learning_rate), loss='sparse_categorical_crossentropy', metrics=['accuracy'])\n",
    "    \n",
    "    return model\n"
   ]
  },
  {
   "cell_type": "code",
   "execution_count": 42,
   "metadata": {},
   "outputs": [],
   "source": [
    "def model_training_and_evaluation(*, model, X_train, Y_train, epochs, validation_data, batch_size=16):\n",
    "    history = model.fit(X_train, Y_train, epochs=epochs, validation_data=validation_data, batch_size=batch_size, verbose=0)\n",
    "    loss, accuracy = model.evaluate(X_test, Y_test, batch_size=batch_size, verbose=0)\n",
    "\n",
    "    return history, loss, accuracy"
   ]
  },
  {
   "attachments": {},
   "cell_type": "markdown",
   "metadata": {},
   "source": [
    "## TF2 Single-layer"
   ]
  },
  {
   "cell_type": "code",
   "execution_count": 43,
   "metadata": {},
   "outputs": [],
   "source": [
    "tf.compat.v1.enable_v2_behavior()"
   ]
  },
  {
   "cell_type": "code",
   "execution_count": 44,
   "metadata": {},
   "outputs": [],
   "source": [
    "def single_layer_create_and_evaluate(*, \n",
    "                                     learning_rate, \n",
    "                                     neurons, \n",
    "                                     X_train, \n",
    "                                     Y_train, \n",
    "                                     epochs, \n",
    "                                     validation_data, \n",
    "                                     batch_size=16):\n",
    "    global single_layer_results_table\n",
    "    model = single_layer(learning_rate=learning_rate, neurons=neurons)\n",
    "    \n",
    "    _, loss, accuracy = model_training_and_evaluation(model=model, X_train=X_train, Y_train=Y_train, epochs=epochs, validation_data=validation_data, batch_size=batch_size)\n",
    "    \n",
    "    d_row = {\n",
    "        'accuracy': accuracy, \n",
    "        'loss': loss, \n",
    "        'learning_rate': learning_rate,\n",
    "        'neurons': neurons,\n",
    "        'epochs': epochs,\n",
    "        'batch_size': batch_size\n",
    "    }\n",
    "    \n",
    "    single_layer_results_table = single_layer_results_table.append(d_row,ignore_index=True)\n",
    "    \n",
    "    return single_layer_results_table.iloc[-1:]\n",
    "    "
   ]
  },
  {
   "cell_type": "code",
   "execution_count": 45,
   "metadata": {},
   "outputs": [],
   "source": [
    "epochs_list = [2, 10]\n",
    "batch_sizes = [8, 24]\n",
    "neurons_list = [4, 16]\n",
    "learning_rates = [0.1, 0.05]\n",
    "hidden_layers_list = [0, 3]\n",
    "dropouts = [0.2, 0.4]"
   ]
  },
  {
   "cell_type": "code",
   "execution_count": 46,
   "metadata": {},
   "outputs": [],
   "source": [
    "sl_parameters = [\n",
    "    neurons_list,\n",
    "    epochs_list,\n",
    "    learning_rates,\n",
    "    batch_sizes\n",
    "]\n",
    "\n",
    "ml_parameters = [\n",
    "    neurons_list,\n",
    "    hidden_layers_list,\n",
    "    dropouts,\n",
    "    epochs_list,\n",
    "    learning_rates,\n",
    "    batch_sizes\n",
    "]"
   ]
  },
  {
   "cell_type": "code",
   "execution_count": 47,
   "metadata": {},
   "outputs": [
    {
     "ename": "TypeError",
     "evalue": "single_layer() got an unexpected keyword argument 'optimizer'",
     "output_type": "error",
     "traceback": [
      "\u001b[1;31m---------------------------------------------------------------------------\u001b[0m",
      "\u001b[1;31mTypeError\u001b[0m                                 Traceback (most recent call last)",
      "Cell \u001b[1;32mIn[47], line 2\u001b[0m\n\u001b[0;32m      1\u001b[0m \u001b[39mfor\u001b[39;00m neurons, epochs, learning_rate, batch_size \u001b[39min\u001b[39;00m \u001b[39mlist\u001b[39m(itertools\u001b[39m.\u001b[39mproduct(\u001b[39m*\u001b[39msl_parameters)):\n\u001b[1;32m----> 2\u001b[0m     single_layer_create_and_evaluate(\n\u001b[0;32m      3\u001b[0m         learning_rate\u001b[39m=\u001b[39;49mlearning_rate,\n\u001b[0;32m      4\u001b[0m         neurons\u001b[39m=\u001b[39;49mneurons,\n\u001b[0;32m      5\u001b[0m         optimizer\u001b[39m=\u001b[39;49moptimizer,\n\u001b[0;32m      6\u001b[0m         X_train\u001b[39m=\u001b[39;49mX_train,\n\u001b[0;32m      7\u001b[0m         Y_train\u001b[39m=\u001b[39;49mY_train,\n\u001b[0;32m      8\u001b[0m         epochs\u001b[39m=\u001b[39;49mepochs,\n\u001b[0;32m      9\u001b[0m         validation_data\u001b[39m=\u001b[39;49m(X_test, Y_test),\n\u001b[0;32m     10\u001b[0m         batch_size\u001b[39m=\u001b[39;49mbatch_size\n\u001b[0;32m     11\u001b[0m     )\n",
      "Cell \u001b[1;32mIn[44], line 11\u001b[0m, in \u001b[0;36msingle_layer_create_and_evaluate\u001b[1;34m(learning_rate, neurons, optimizer, X_train, Y_train, epochs, validation_data, batch_size)\u001b[0m\n\u001b[0;32m      1\u001b[0m \u001b[39mdef\u001b[39;00m \u001b[39msingle_layer_create_and_evaluate\u001b[39m(\u001b[39m*\u001b[39m, \n\u001b[0;32m      2\u001b[0m                                      learning_rate, \n\u001b[0;32m      3\u001b[0m                                      neurons, \n\u001b[1;32m   (...)\u001b[0m\n\u001b[0;32m      8\u001b[0m                                      validation_data, \n\u001b[0;32m      9\u001b[0m                                      batch_size\u001b[39m=\u001b[39m\u001b[39m16\u001b[39m):\n\u001b[0;32m     10\u001b[0m     \u001b[39mglobal\u001b[39;00m single_layer_results_table\n\u001b[1;32m---> 11\u001b[0m     model \u001b[39m=\u001b[39m single_layer(learning_rate\u001b[39m=\u001b[39;49mlearning_rate, neurons\u001b[39m=\u001b[39;49mneurons, optimizer\u001b[39m=\u001b[39;49moptimizer)\n\u001b[0;32m     13\u001b[0m     _, loss, accuracy \u001b[39m=\u001b[39m model_training_and_evaluation(model\u001b[39m=\u001b[39mmodel, X_train\u001b[39m=\u001b[39mX_train, Y_train\u001b[39m=\u001b[39mY_train, epochs\u001b[39m=\u001b[39mepochs, validation_data\u001b[39m=\u001b[39mvalidation_data, batch_size\u001b[39m=\u001b[39mbatch_size)\n\u001b[0;32m     15\u001b[0m     d_row \u001b[39m=\u001b[39m {\n\u001b[0;32m     16\u001b[0m         \u001b[39m'\u001b[39m\u001b[39maccuracy\u001b[39m\u001b[39m'\u001b[39m: accuracy, \n\u001b[0;32m     17\u001b[0m         \u001b[39m'\u001b[39m\u001b[39mloss\u001b[39m\u001b[39m'\u001b[39m: loss, \n\u001b[1;32m   (...)\u001b[0m\n\u001b[0;32m     22\u001b[0m         \u001b[39m'\u001b[39m\u001b[39moptimizer\u001b[39m\u001b[39m'\u001b[39m: optimizer\n\u001b[0;32m     23\u001b[0m     }\n",
      "\u001b[1;31mTypeError\u001b[0m: single_layer() got an unexpected keyword argument 'optimizer'"
     ]
    }
   ],
   "source": [
    "for neurons, epochs, learning_rate, batch_size in list(itertools.product(*sl_parameters)):\n",
    "    single_layer_create_and_evaluate(\n",
    "        learning_rate=learning_rate,\n",
    "        neurons=neurons,\n",
    "        X_train=X_train,\n",
    "        Y_train=Y_train,\n",
    "        epochs=epochs,\n",
    "        validation_data=(X_test, Y_test),\n",
    "        batch_size=batch_size\n",
    "    )"
   ]
  },
  {
   "attachments": {},
   "cell_type": "markdown",
   "metadata": {},
   "source": [
    "## TF2 Multi-Layer Perceptron"
   ]
  },
  {
   "cell_type": "code",
   "execution_count": null,
   "metadata": {},
   "outputs": [],
   "source": [
    "def multi_layer_create_and_evaluate(*, \n",
    "                                    learning_rate, \n",
    "                                    neurons, \n",
    "                                    hidden_layers,\n",
    "                                    dropout=0.5,\n",
    "                                    X_train, \n",
    "                                    Y_train, \n",
    "                                    epochs, \n",
    "                                    validation_data, \n",
    "                                    batch_size=16):\n",
    "    global multi_layer_results_table\n",
    "    model = multi_layer(learning_rate=learning_rate, neurons=neurons, hidden_layers=hidden_layers, dropout=dropout)\n",
    "    \n",
    "    _, loss, accuracy = model_training_and_evaluation(model=model, X_train=X_train, Y_train=Y_train, epochs=epochs, validation_data=validation_data, batch_size=batch_size)\n",
    "    \n",
    "    d_row = {\n",
    "        'accuracy': accuracy, \n",
    "        'loss': loss, \n",
    "        'learning_rate': learning_rate,\n",
    "        'neurons': neurons,\n",
    "        'hidden_layers': hidden_layers,\n",
    "        'dropout': dropout,\n",
    "        'epochs': epochs,\n",
    "        'batch_size': batch_size\n",
    "    }\n",
    "    \n",
    "    multi_layer_results_table = multi_layer_results_table.append(d_row,ignore_index=True)\n",
    "    \n",
    "    return multi_layer_results_table.iloc[-1:]\n",
    "    "
   ]
  },
  {
   "cell_type": "code",
   "execution_count": null,
   "metadata": {},
   "outputs": [
    {
     "ename": "KeyboardInterrupt",
     "evalue": "",
     "output_type": "error",
     "traceback": [
      "\u001b[1;31m---------------------------------------------------------------------------\u001b[0m",
      "\u001b[1;31mKeyboardInterrupt\u001b[0m                         Traceback (most recent call last)",
      "Cell \u001b[1;32mIn[34], line 2\u001b[0m\n\u001b[0;32m      1\u001b[0m \u001b[39mfor\u001b[39;00m neurons, hidden_layers, dropout, epochs, learning_rate, optimizer, batch_size \u001b[39min\u001b[39;00m \u001b[39mlist\u001b[39m(itertools\u001b[39m.\u001b[39mproduct(\u001b[39m*\u001b[39mml_parameters)):\n\u001b[1;32m----> 2\u001b[0m     multi_layer_create_and_evaluate(\n\u001b[0;32m      3\u001b[0m         learning_rate\u001b[39m=\u001b[39;49mlearning_rate,\n\u001b[0;32m      4\u001b[0m         neurons\u001b[39m=\u001b[39;49mneurons,\n\u001b[0;32m      5\u001b[0m         hidden_layers\u001b[39m=\u001b[39;49mhidden_layers,\n\u001b[0;32m      6\u001b[0m         dropout\u001b[39m=\u001b[39;49mdropout,\n\u001b[0;32m      7\u001b[0m         optimizer\u001b[39m=\u001b[39;49moptimizer,\n\u001b[0;32m      8\u001b[0m         X_train\u001b[39m=\u001b[39;49mX_train,\n\u001b[0;32m      9\u001b[0m         Y_train\u001b[39m=\u001b[39;49mY_train,\n\u001b[0;32m     10\u001b[0m         epochs\u001b[39m=\u001b[39;49mepochs,\n\u001b[0;32m     11\u001b[0m         validation_data\u001b[39m=\u001b[39;49m(X_test, Y_test),\n\u001b[0;32m     12\u001b[0m         batch_size\u001b[39m=\u001b[39;49mbatch_size\n\u001b[0;32m     13\u001b[0m     )\n",
      "Cell \u001b[1;32mIn[33], line 15\u001b[0m, in \u001b[0;36mmulti_layer_create_and_evaluate\u001b[1;34m(learning_rate, neurons, hidden_layers, dropout, optimizer, X_train, Y_train, epochs, validation_data, batch_size)\u001b[0m\n\u001b[0;32m     12\u001b[0m \u001b[39mglobal\u001b[39;00m multi_layer_results_table\n\u001b[0;32m     13\u001b[0m model \u001b[39m=\u001b[39m multi_layer(learning_rate\u001b[39m=\u001b[39mlearning_rate, neurons\u001b[39m=\u001b[39mneurons, hidden_layers\u001b[39m=\u001b[39mhidden_layers, dropout\u001b[39m=\u001b[39mdropout, optimizer\u001b[39m=\u001b[39moptimizer)\n\u001b[1;32m---> 15\u001b[0m _, loss, accuracy \u001b[39m=\u001b[39m model_training_and_evaluation(model\u001b[39m=\u001b[39;49mmodel, X_train\u001b[39m=\u001b[39;49mX_train, Y_train\u001b[39m=\u001b[39;49mY_train, epochs\u001b[39m=\u001b[39;49mepochs, validation_data\u001b[39m=\u001b[39;49mvalidation_data, batch_size\u001b[39m=\u001b[39;49mbatch_size)\n\u001b[0;32m     17\u001b[0m d_row \u001b[39m=\u001b[39m {\n\u001b[0;32m     18\u001b[0m     \u001b[39m'\u001b[39m\u001b[39maccuracy\u001b[39m\u001b[39m'\u001b[39m: accuracy, \n\u001b[0;32m     19\u001b[0m     \u001b[39m'\u001b[39m\u001b[39mloss\u001b[39m\u001b[39m'\u001b[39m: loss, \n\u001b[1;32m   (...)\u001b[0m\n\u001b[0;32m     26\u001b[0m     \u001b[39m'\u001b[39m\u001b[39moptimizer\u001b[39m\u001b[39m'\u001b[39m: optimizer\n\u001b[0;32m     27\u001b[0m }\n\u001b[0;32m     29\u001b[0m multi_layer_results_table \u001b[39m=\u001b[39m multi_layer_results_table\u001b[39m.\u001b[39mappend(d_row,ignore_index\u001b[39m=\u001b[39m\u001b[39mTrue\u001b[39;00m)\n",
      "Cell \u001b[1;32mIn[27], line 2\u001b[0m, in \u001b[0;36mmodel_training_and_evaluation\u001b[1;34m(model, X_train, Y_train, epochs, validation_data, batch_size)\u001b[0m\n\u001b[0;32m      1\u001b[0m \u001b[39mdef\u001b[39;00m \u001b[39mmodel_training_and_evaluation\u001b[39m(\u001b[39m*\u001b[39m, model, X_train, Y_train, epochs, validation_data, batch_size\u001b[39m=\u001b[39m\u001b[39m16\u001b[39m):\n\u001b[1;32m----> 2\u001b[0m     history \u001b[39m=\u001b[39m model\u001b[39m.\u001b[39;49mfit(X_train, Y_train, epochs\u001b[39m=\u001b[39;49mepochs, validation_data\u001b[39m=\u001b[39;49mvalidation_data, batch_size\u001b[39m=\u001b[39;49mbatch_size, verbose\u001b[39m=\u001b[39;49m\u001b[39m0\u001b[39;49m)\n\u001b[0;32m      3\u001b[0m     loss, accuracy \u001b[39m=\u001b[39m model\u001b[39m.\u001b[39mevaluate(X_test, Y_test, batch_size\u001b[39m=\u001b[39mbatch_size, verbose\u001b[39m=\u001b[39m\u001b[39m0\u001b[39m)\n\u001b[0;32m      5\u001b[0m     \u001b[39mreturn\u001b[39;00m history, loss, accuracy\n",
      "File \u001b[1;32md:\\Files\\Documents\\JYU\\Deep-Learning for Cognitive Computing for Developers\\Tasks\\Task 2\\.venv\\lib\\site-packages\\tensorflow\\python\\keras\\engine\\training.py:1187\u001b[0m, in \u001b[0;36mModel.fit\u001b[1;34m(self, x, y, batch_size, epochs, verbose, callbacks, validation_split, validation_data, shuffle, class_weight, sample_weight, initial_epoch, steps_per_epoch, validation_steps, validation_batch_size, validation_freq, max_queue_size, workers, use_multiprocessing)\u001b[0m\n\u001b[0;32m   1180\u001b[0m \u001b[39mwith\u001b[39;00m trace\u001b[39m.\u001b[39mTrace(\n\u001b[0;32m   1181\u001b[0m     \u001b[39m'\u001b[39m\u001b[39mtrain\u001b[39m\u001b[39m'\u001b[39m,\n\u001b[0;32m   1182\u001b[0m     epoch_num\u001b[39m=\u001b[39mepoch,\n\u001b[0;32m   1183\u001b[0m     step_num\u001b[39m=\u001b[39mstep,\n\u001b[0;32m   1184\u001b[0m     batch_size\u001b[39m=\u001b[39mbatch_size,\n\u001b[0;32m   1185\u001b[0m     _r\u001b[39m=\u001b[39m\u001b[39m1\u001b[39m):\n\u001b[0;32m   1186\u001b[0m   callbacks\u001b[39m.\u001b[39mon_train_batch_begin(step)\n\u001b[1;32m-> 1187\u001b[0m   tmp_logs \u001b[39m=\u001b[39m \u001b[39mself\u001b[39;49m\u001b[39m.\u001b[39;49mtrain_function(iterator)\n\u001b[0;32m   1188\u001b[0m   \u001b[39mif\u001b[39;00m data_handler\u001b[39m.\u001b[39mshould_sync:\n\u001b[0;32m   1189\u001b[0m     context\u001b[39m.\u001b[39masync_wait()\n",
      "File \u001b[1;32md:\\Files\\Documents\\JYU\\Deep-Learning for Cognitive Computing for Developers\\Tasks\\Task 2\\.venv\\lib\\site-packages\\tensorflow\\python\\util\\traceback_utils.py:150\u001b[0m, in \u001b[0;36mfilter_traceback.<locals>.error_handler\u001b[1;34m(*args, **kwargs)\u001b[0m\n\u001b[0;32m    148\u001b[0m filtered_tb \u001b[39m=\u001b[39m \u001b[39mNone\u001b[39;00m\n\u001b[0;32m    149\u001b[0m \u001b[39mtry\u001b[39;00m:\n\u001b[1;32m--> 150\u001b[0m   \u001b[39mreturn\u001b[39;00m fn(\u001b[39m*\u001b[39margs, \u001b[39m*\u001b[39m\u001b[39m*\u001b[39mkwargs)\n\u001b[0;32m    151\u001b[0m \u001b[39mexcept\u001b[39;00m \u001b[39mException\u001b[39;00m \u001b[39mas\u001b[39;00m e:\n\u001b[0;32m    152\u001b[0m   filtered_tb \u001b[39m=\u001b[39m _process_traceback_frames(e\u001b[39m.\u001b[39m__traceback__)\n",
      "File \u001b[1;32md:\\Files\\Documents\\JYU\\Deep-Learning for Cognitive Computing for Developers\\Tasks\\Task 2\\.venv\\lib\\site-packages\\tensorflow\\python\\eager\\polymorphic_function\\polymorphic_function.py:880\u001b[0m, in \u001b[0;36mFunction.__call__\u001b[1;34m(self, *args, **kwds)\u001b[0m\n\u001b[0;32m    877\u001b[0m compiler \u001b[39m=\u001b[39m \u001b[39m\"\u001b[39m\u001b[39mxla\u001b[39m\u001b[39m\"\u001b[39m \u001b[39mif\u001b[39;00m \u001b[39mself\u001b[39m\u001b[39m.\u001b[39m_jit_compile \u001b[39melse\u001b[39;00m \u001b[39m\"\u001b[39m\u001b[39mnonXla\u001b[39m\u001b[39m\"\u001b[39m\n\u001b[0;32m    879\u001b[0m \u001b[39mwith\u001b[39;00m OptionalXlaContext(\u001b[39mself\u001b[39m\u001b[39m.\u001b[39m_jit_compile):\n\u001b[1;32m--> 880\u001b[0m   result \u001b[39m=\u001b[39m \u001b[39mself\u001b[39m\u001b[39m.\u001b[39m_call(\u001b[39m*\u001b[39margs, \u001b[39m*\u001b[39m\u001b[39m*\u001b[39mkwds)\n\u001b[0;32m    882\u001b[0m new_tracing_count \u001b[39m=\u001b[39m \u001b[39mself\u001b[39m\u001b[39m.\u001b[39mexperimental_get_tracing_count()\n\u001b[0;32m    883\u001b[0m without_tracing \u001b[39m=\u001b[39m (tracing_count \u001b[39m==\u001b[39m new_tracing_count)\n",
      "File \u001b[1;32md:\\Files\\Documents\\JYU\\Deep-Learning for Cognitive Computing for Developers\\Tasks\\Task 2\\.venv\\lib\\site-packages\\tensorflow\\python\\eager\\polymorphic_function\\polymorphic_function.py:912\u001b[0m, in \u001b[0;36mFunction._call\u001b[1;34m(self, *args, **kwds)\u001b[0m\n\u001b[0;32m    909\u001b[0m   \u001b[39mself\u001b[39m\u001b[39m.\u001b[39m_lock\u001b[39m.\u001b[39mrelease()\n\u001b[0;32m    910\u001b[0m   \u001b[39m# In this case we have created variables on the first call, so we run the\u001b[39;00m\n\u001b[0;32m    911\u001b[0m   \u001b[39m# defunned version which is guaranteed to never create variables.\u001b[39;00m\n\u001b[1;32m--> 912\u001b[0m   \u001b[39mreturn\u001b[39;00m \u001b[39mself\u001b[39m\u001b[39m.\u001b[39m_no_variable_creation_fn(\u001b[39m*\u001b[39margs, \u001b[39m*\u001b[39m\u001b[39m*\u001b[39mkwds)  \u001b[39m# pylint: disable=not-callable\u001b[39;00m\n\u001b[0;32m    913\u001b[0m \u001b[39melif\u001b[39;00m \u001b[39mself\u001b[39m\u001b[39m.\u001b[39m_variable_creation_fn \u001b[39mis\u001b[39;00m \u001b[39mnot\u001b[39;00m \u001b[39mNone\u001b[39;00m:\n\u001b[0;32m    914\u001b[0m   \u001b[39m# Release the lock early so that multiple threads can perform the call\u001b[39;00m\n\u001b[0;32m    915\u001b[0m   \u001b[39m# in parallel.\u001b[39;00m\n\u001b[0;32m    916\u001b[0m   \u001b[39mself\u001b[39m\u001b[39m.\u001b[39m_lock\u001b[39m.\u001b[39mrelease()\n",
      "File \u001b[1;32md:\\Files\\Documents\\JYU\\Deep-Learning for Cognitive Computing for Developers\\Tasks\\Task 2\\.venv\\lib\\site-packages\\tensorflow\\python\\eager\\polymorphic_function\\tracing_compiler.py:134\u001b[0m, in \u001b[0;36mTracingCompiler.__call__\u001b[1;34m(self, *args, **kwargs)\u001b[0m\n\u001b[0;32m    131\u001b[0m \u001b[39mwith\u001b[39;00m \u001b[39mself\u001b[39m\u001b[39m.\u001b[39m_lock:\n\u001b[0;32m    132\u001b[0m   (concrete_function,\n\u001b[0;32m    133\u001b[0m    filtered_flat_args) \u001b[39m=\u001b[39m \u001b[39mself\u001b[39m\u001b[39m.\u001b[39m_maybe_define_function(args, kwargs)\n\u001b[1;32m--> 134\u001b[0m \u001b[39mreturn\u001b[39;00m concrete_function\u001b[39m.\u001b[39;49m_call_flat(\n\u001b[0;32m    135\u001b[0m     filtered_flat_args, captured_inputs\u001b[39m=\u001b[39;49mconcrete_function\u001b[39m.\u001b[39;49mcaptured_inputs)\n",
      "File \u001b[1;32md:\\Files\\Documents\\JYU\\Deep-Learning for Cognitive Computing for Developers\\Tasks\\Task 2\\.venv\\lib\\site-packages\\tensorflow\\python\\eager\\polymorphic_function\\monomorphic_function.py:1745\u001b[0m, in \u001b[0;36mConcreteFunction._call_flat\u001b[1;34m(self, args, captured_inputs, cancellation_manager)\u001b[0m\n\u001b[0;32m   1741\u001b[0m possible_gradient_type \u001b[39m=\u001b[39m gradients_util\u001b[39m.\u001b[39mPossibleTapeGradientTypes(args)\n\u001b[0;32m   1742\u001b[0m \u001b[39mif\u001b[39;00m (possible_gradient_type \u001b[39m==\u001b[39m gradients_util\u001b[39m.\u001b[39mPOSSIBLE_GRADIENT_TYPES_NONE\n\u001b[0;32m   1743\u001b[0m     \u001b[39mand\u001b[39;00m executing_eagerly):\n\u001b[0;32m   1744\u001b[0m   \u001b[39m# No tape is watching; skip to running the function.\u001b[39;00m\n\u001b[1;32m-> 1745\u001b[0m   \u001b[39mreturn\u001b[39;00m \u001b[39mself\u001b[39m\u001b[39m.\u001b[39m_build_call_outputs(\u001b[39mself\u001b[39;49m\u001b[39m.\u001b[39;49m_inference_function\u001b[39m.\u001b[39;49mcall(\n\u001b[0;32m   1746\u001b[0m       ctx, args, cancellation_manager\u001b[39m=\u001b[39;49mcancellation_manager))\n\u001b[0;32m   1747\u001b[0m forward_backward \u001b[39m=\u001b[39m \u001b[39mself\u001b[39m\u001b[39m.\u001b[39m_select_forward_and_backward_functions(\n\u001b[0;32m   1748\u001b[0m     args,\n\u001b[0;32m   1749\u001b[0m     possible_gradient_type,\n\u001b[0;32m   1750\u001b[0m     executing_eagerly)\n\u001b[0;32m   1751\u001b[0m forward_function, args_with_tangents \u001b[39m=\u001b[39m forward_backward\u001b[39m.\u001b[39mforward()\n",
      "File \u001b[1;32md:\\Files\\Documents\\JYU\\Deep-Learning for Cognitive Computing for Developers\\Tasks\\Task 2\\.venv\\lib\\site-packages\\tensorflow\\python\\eager\\polymorphic_function\\monomorphic_function.py:378\u001b[0m, in \u001b[0;36m_EagerDefinedFunction.call\u001b[1;34m(self, ctx, args, cancellation_manager)\u001b[0m\n\u001b[0;32m    376\u001b[0m \u001b[39mwith\u001b[39;00m _InterpolateFunctionError(\u001b[39mself\u001b[39m):\n\u001b[0;32m    377\u001b[0m   \u001b[39mif\u001b[39;00m cancellation_manager \u001b[39mis\u001b[39;00m \u001b[39mNone\u001b[39;00m:\n\u001b[1;32m--> 378\u001b[0m     outputs \u001b[39m=\u001b[39m execute\u001b[39m.\u001b[39;49mexecute(\n\u001b[0;32m    379\u001b[0m         \u001b[39mstr\u001b[39;49m(\u001b[39mself\u001b[39;49m\u001b[39m.\u001b[39;49msignature\u001b[39m.\u001b[39;49mname),\n\u001b[0;32m    380\u001b[0m         num_outputs\u001b[39m=\u001b[39;49m\u001b[39mself\u001b[39;49m\u001b[39m.\u001b[39;49m_num_outputs,\n\u001b[0;32m    381\u001b[0m         inputs\u001b[39m=\u001b[39;49margs,\n\u001b[0;32m    382\u001b[0m         attrs\u001b[39m=\u001b[39;49mattrs,\n\u001b[0;32m    383\u001b[0m         ctx\u001b[39m=\u001b[39;49mctx)\n\u001b[0;32m    384\u001b[0m   \u001b[39melse\u001b[39;00m:\n\u001b[0;32m    385\u001b[0m     outputs \u001b[39m=\u001b[39m execute\u001b[39m.\u001b[39mexecute_with_cancellation(\n\u001b[0;32m    386\u001b[0m         \u001b[39mstr\u001b[39m(\u001b[39mself\u001b[39m\u001b[39m.\u001b[39msignature\u001b[39m.\u001b[39mname),\n\u001b[0;32m    387\u001b[0m         num_outputs\u001b[39m=\u001b[39m\u001b[39mself\u001b[39m\u001b[39m.\u001b[39m_num_outputs,\n\u001b[1;32m   (...)\u001b[0m\n\u001b[0;32m    390\u001b[0m         ctx\u001b[39m=\u001b[39mctx,\n\u001b[0;32m    391\u001b[0m         cancellation_manager\u001b[39m=\u001b[39mcancellation_manager)\n",
      "File \u001b[1;32md:\\Files\\Documents\\JYU\\Deep-Learning for Cognitive Computing for Developers\\Tasks\\Task 2\\.venv\\lib\\site-packages\\tensorflow\\python\\eager\\execute.py:52\u001b[0m, in \u001b[0;36mquick_execute\u001b[1;34m(op_name, num_outputs, inputs, attrs, ctx, name)\u001b[0m\n\u001b[0;32m     50\u001b[0m \u001b[39mtry\u001b[39;00m:\n\u001b[0;32m     51\u001b[0m   ctx\u001b[39m.\u001b[39mensure_initialized()\n\u001b[1;32m---> 52\u001b[0m   tensors \u001b[39m=\u001b[39m pywrap_tfe\u001b[39m.\u001b[39;49mTFE_Py_Execute(ctx\u001b[39m.\u001b[39;49m_handle, device_name, op_name,\n\u001b[0;32m     53\u001b[0m                                       inputs, attrs, num_outputs)\n\u001b[0;32m     54\u001b[0m \u001b[39mexcept\u001b[39;00m core\u001b[39m.\u001b[39m_NotOkStatusException \u001b[39mas\u001b[39;00m e:\n\u001b[0;32m     55\u001b[0m   \u001b[39mif\u001b[39;00m name \u001b[39mis\u001b[39;00m \u001b[39mnot\u001b[39;00m \u001b[39mNone\u001b[39;00m:\n",
      "\u001b[1;31mKeyboardInterrupt\u001b[0m: "
     ]
    }
   ],
   "source": [
    "for neurons, hidden_layers, dropout, epochs, learning_rate, batch_size in list(itertools.product(*ml_parameters)):\n",
    "    multi_layer_create_and_evaluate(\n",
    "        learning_rate=learning_rate,\n",
    "        neurons=neurons,\n",
    "        hidden_layers=hidden_layers,\n",
    "        dropout=dropout,\n",
    "        X_train=X_train,\n",
    "        Y_train=Y_train,\n",
    "        epochs=epochs,\n",
    "        validation_data=(X_test, Y_test),\n",
    "        batch_size=batch_size\n",
    "    )"
   ]
  },
  {
   "cell_type": "code",
   "execution_count": null,
   "metadata": {},
   "outputs": [],
   "source": [
    "single_layer_results_table"
   ]
  },
  {
   "cell_type": "code",
   "execution_count": null,
   "metadata": {},
   "outputs": [],
   "source": [
    "multi_layer_results_table"
   ]
  }
 ],
 "metadata": {
  "kernelspec": {
   "display_name": ".venv",
   "language": "python",
   "name": "python3"
  },
  "language_info": {
   "codemirror_mode": {
    "name": "ipython",
    "version": 3
   },
   "file_extension": ".py",
   "mimetype": "text/x-python",
   "name": "python",
   "nbconvert_exporter": "python",
   "pygments_lexer": "ipython3",
   "version": "3.10.7"
  },
  "orig_nbformat": 4,
  "vscode": {
   "interpreter": {
    "hash": "2e0a661408dd2e5d6e82762c2a3896b10b58a303515c0bde349ae540da99193a"
   }
  }
 },
 "nbformat": 4,
 "nbformat_minor": 2
}
